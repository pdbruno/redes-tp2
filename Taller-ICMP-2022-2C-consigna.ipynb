{
 "cells": [
  {
   "cell_type": "code",
   "execution_count": 1,
   "id": "b6c0932c",
   "metadata": {},
   "outputs": [],
   "source": [
    "#!/usr/bin/env python3\n",
    "\n",
    "import sys\n",
    "from scapy.all import *\n",
    "from time import *\n",
    "from statistics import mode, mean\n",
    "from cimbala import outliers"
   ]
  },
  {
   "cell_type": "code",
   "execution_count": 3,
   "id": "0088ed7d-3320-487c-9cd6-321238116b0e",
   "metadata": {},
   "outputs": [],
   "source": [
    "\n",
    "\n",
    "def traceroute(url):\n",
    "    responses = {}\n",
    "    for i in range(30):\n",
    "        for ttl in range(1,25):\n",
    "            probe = IP(dst=url, ttl=ttl) / ICMP()\n",
    "            t_i = time()\n",
    "            ans = sr1(probe, verbose=False, timeout=0.8)\n",
    "            t_f = time()\n",
    "            rtt = (t_f - t_i)*1000\n",
    "            if ans is not None:\n",
    "                if ttl not in responses: \n",
    "                    responses[ttl] = []\n",
    "                responses[ttl].append((ans.src, rtt))\n",
    "    return responses"
   ]
  },
  {
   "cell_type": "code",
   "execution_count": 4,
   "id": "449afaf4",
   "metadata": {},
   "outputs": [],
   "source": [
    "ipCalcuta = '13.227.83.19'\n",
    "ipTokio = '210.152.243.234'\n",
    "ipPascua = '200.89.79.133'\n",
    "ipDest = ipTokio\n",
    "responses = traceroute(ipDest)"
   ]
  },
  {
   "cell_type": "code",
   "execution_count": 5,
   "id": "3397aeef",
   "metadata": {},
   "outputs": [
    {
     "name": "stdout",
     "output_type": "stream",
     "text": [
      "[(1, '192.168.0.1', 49.597978591918945), (7, '195.22.220.56', 27.143239974975586), (8, '195.22.199.82', 149.89995956420898), (9, '4.68.62.57', 144.29497718811035), (10, '4.69.215.94', 345.7205295562744), (11, '8.245.32.246', 295.7279682159424), (12, '163.139.136.67', 290.91382026672363), (13, '222.230.187.142', 318.4370994567871)]\n",
      "\n",
      "[49.597978591918945, 100.30198097229004, 195.82056999206543]\n",
      "\n",
      "[49.597978591918945, 100.30198097229004, 195.82056999206543]\n"
     ]
    }
   ],
   "source": [
    "res = []\n",
    "\n",
    "for ttl in responses: \n",
    "  ipModa = mode([ip for ip, rtt in responses[ttl]])\n",
    "  promedioRTT = mean([rtt for ip, rtt in responses[ttl] if ip == ipModa])\n",
    "  res.append((ttl, ipModa, promedioRTT))\n",
    "  if ipDest == ipModa:\n",
    "    break\n",
    "\n",
    "res.sort(key = lambda tupla: tupla[0])\n",
    "\n",
    "saltos = [res[0][2]]\n",
    "low = 0\n",
    "up = 1\n",
    "while up < len(res):\n",
    "  while up < len(res) and res[up][2] - res[low][2] < 0:\n",
    "    up += 1\n",
    "  if up < len(res):\n",
    "    saltos.append(res[up][2] - res[low][2])\n",
    "    low = up\n",
    "    up += 1\n",
    "\n",
    "print(res)\n",
    "print()\n",
    "print(saltos)\n",
    "print()\n",
    "print(outliers(saltos))"
   ]
  }
 ],
 "metadata": {
  "kernelspec": {
   "display_name": "Python 3.9.7 64-bit",
   "language": "python",
   "name": "python3"
  },
  "language_info": {
   "codemirror_mode": {
    "name": "ipython",
    "version": 3
   },
   "file_extension": ".py",
   "mimetype": "text/x-python",
   "name": "python",
   "nbconvert_exporter": "python",
   "pygments_lexer": "ipython3",
   "version": "3.9.7"
  },
  "vscode": {
   "interpreter": {
    "hash": "81794d4967e6c3204c66dcd87b604927b115b27c00565d3d43f05ba2f3a2cb0d"
   }
  }
 },
 "nbformat": 4,
 "nbformat_minor": 5
}
